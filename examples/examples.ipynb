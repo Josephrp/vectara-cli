{
 "cells": [
  {
   "cell_type": "code",
   "execution_count": 8,
   "metadata": {},
   "outputs": [
    {
     "name": "stdout",
     "output_type": "stream",
     "text": [
      "Requirement already satisfied: vectara-cli in c:\\python311\\lib\\site-packages (0.1.1)\n",
      "Requirement already satisfied: requests in c:\\python311\\lib\\site-packages (from vectara-cli) (2.31.0)\n",
      "Requirement already satisfied: accelerate in c:\\python311\\lib\\site-packages (from vectara-cli[advanced]) (0.25.0)\n",
      "Requirement already satisfied: torch>=1.8.0 in c:\\python311\\lib\\site-packages (from vectara-cli[advanced]) (2.1.0)\n",
      "Requirement already satisfied: transformers>=4.5.0 in c:\\python311\\lib\\site-packages (from vectara-cli[advanced]) (4.36.2)\n",
      "Requirement already satisfied: span-marker in c:\\python311\\lib\\site-packages (from vectara-cli[advanced]) (1.5.0)\n",
      "Requirement already satisfied: spacey in c:\\python311\\lib\\site-packages (from vectara-cli[advanced]) (0.1.1)\n",
      "Requirement already satisfied: filelock in c:\\python311\\lib\\site-packages (from torch>=1.8.0->vectara-cli[advanced]) (3.12.3)\n",
      "Requirement already satisfied: typing-extensions in c:\\python311\\lib\\site-packages (from torch>=1.8.0->vectara-cli[advanced]) (4.9.0)\n",
      "Requirement already satisfied: sympy in c:\\python311\\lib\\site-packages (from torch>=1.8.0->vectara-cli[advanced]) (1.12)\n",
      "Requirement already satisfied: networkx in c:\\python311\\lib\\site-packages (from torch>=1.8.0->vectara-cli[advanced]) (3.1)\n",
      "Requirement already satisfied: jinja2 in c:\\python311\\lib\\site-packages (from torch>=1.8.0->vectara-cli[advanced]) (3.1.2)\n",
      "Requirement already satisfied: fsspec in c:\\python311\\lib\\site-packages (from torch>=1.8.0->vectara-cli[advanced]) (2023.9.0)\n",
      "Requirement already satisfied: huggingface-hub<1.0,>=0.19.3 in c:\\python311\\lib\\site-packages (from transformers>=4.5.0->vectara-cli[advanced]) (0.20.2)\n",
      "Requirement already satisfied: numpy>=1.17 in c:\\python311\\lib\\site-packages (from transformers>=4.5.0->vectara-cli[advanced]) (1.26.2)\n",
      "Requirement already satisfied: packaging>=20.0 in c:\\python311\\lib\\site-packages (from transformers>=4.5.0->vectara-cli[advanced]) (23.2)\n",
      "Requirement already satisfied: pyyaml>=5.1 in c:\\python311\\lib\\site-packages (from transformers>=4.5.0->vectara-cli[advanced]) (6.0.1)\n",
      "Requirement already satisfied: regex!=2019.12.17 in c:\\python311\\lib\\site-packages (from transformers>=4.5.0->vectara-cli[advanced]) (2023.8.8)\n",
      "Requirement already satisfied: tokenizers<0.19,>=0.14 in c:\\python311\\lib\\site-packages (from transformers>=4.5.0->vectara-cli[advanced]) (0.15.0)\n",
      "Requirement already satisfied: safetensors>=0.3.1 in c:\\python311\\lib\\site-packages (from transformers>=4.5.0->vectara-cli[advanced]) (0.3.3)\n",
      "Requirement already satisfied: tqdm>=4.27 in c:\\python311\\lib\\site-packages (from transformers>=4.5.0->vectara-cli[advanced]) (4.66.2)\n",
      "Requirement already satisfied: psutil in c:\\python311\\lib\\site-packages (from accelerate->vectara-cli[advanced]) (5.9.0)\n",
      "Requirement already satisfied: charset-normalizer<4,>=2 in c:\\python311\\lib\\site-packages (from requests->vectara-cli) (3.2.0)\n",
      "Requirement already satisfied: idna<4,>=2.5 in c:\\python311\\lib\\site-packages (from requests->vectara-cli) (3.4)\n",
      "Requirement already satisfied: urllib3<3,>=1.21.1 in c:\\python311\\lib\\site-packages (from requests->vectara-cli) (1.26.18)\n",
      "Requirement already satisfied: certifi>=2017.4.17 in c:\\python311\\lib\\site-packages (from requests->vectara-cli) (2023.7.22)\n",
      "Requirement already satisfied: datasets>=2.14.0 in c:\\python311\\lib\\site-packages (from span-marker->vectara-cli[advanced]) (2.14.6)\n",
      "Requirement already satisfied: evaluate in c:\\python311\\lib\\site-packages (from span-marker->vectara-cli[advanced]) (0.4.1)\n",
      "Requirement already satisfied: seqeval in c:\\python311\\lib\\site-packages (from span-marker->vectara-cli[advanced]) (1.2.2)\n",
      "Requirement already satisfied: pyarrow>=8.0.0 in c:\\python311\\lib\\site-packages (from datasets>=2.14.0->span-marker->vectara-cli[advanced]) (14.0.1)\n",
      "Requirement already satisfied: dill<0.3.8,>=0.3.0 in c:\\python311\\lib\\site-packages (from datasets>=2.14.0->span-marker->vectara-cli[advanced]) (0.3.7)\n",
      "Requirement already satisfied: pandas in c:\\python311\\lib\\site-packages (from datasets>=2.14.0->span-marker->vectara-cli[advanced]) (2.1.4)\n",
      "Requirement already satisfied: xxhash in c:\\python311\\lib\\site-packages (from datasets>=2.14.0->span-marker->vectara-cli[advanced]) (3.4.1)\n",
      "Requirement already satisfied: multiprocess in c:\\python311\\lib\\site-packages (from datasets>=2.14.0->span-marker->vectara-cli[advanced]) (0.70.15)\n",
      "Requirement already satisfied: aiohttp in c:\\python311\\lib\\site-packages (from datasets>=2.14.0->span-marker->vectara-cli[advanced]) (3.9.3)\n",
      "Requirement already satisfied: colorama in c:\\python311\\lib\\site-packages (from tqdm>=4.27->transformers>=4.5.0->vectara-cli[advanced]) (0.4.6)\n",
      "Requirement already satisfied: responses<0.19 in c:\\python311\\lib\\site-packages (from evaluate->span-marker->vectara-cli[advanced]) (0.18.0)\n",
      "Requirement already satisfied: MarkupSafe>=2.0 in c:\\python311\\lib\\site-packages (from jinja2->torch>=1.8.0->vectara-cli[advanced]) (2.1.3)\n",
      "Requirement already satisfied: scikit-learn>=0.21.3 in c:\\python311\\lib\\site-packages (from seqeval->span-marker->vectara-cli[advanced]) (1.3.2)\n",
      "Requirement already satisfied: mpmath>=0.19 in c:\\python311\\lib\\site-packages (from sympy->torch>=1.8.0->vectara-cli[advanced]) (1.3.0)\n",
      "Requirement already satisfied: aiosignal>=1.1.2 in c:\\python311\\lib\\site-packages (from aiohttp->datasets>=2.14.0->span-marker->vectara-cli[advanced]) (1.3.1)\n",
      "Requirement already satisfied: attrs>=17.3.0 in c:\\python311\\lib\\site-packages (from aiohttp->datasets>=2.14.0->span-marker->vectara-cli[advanced]) (23.1.0)\n",
      "Requirement already satisfied: frozenlist>=1.1.1 in c:\\python311\\lib\\site-packages (from aiohttp->datasets>=2.14.0->span-marker->vectara-cli[advanced]) (1.4.0)\n",
      "Requirement already satisfied: multidict<7.0,>=4.5 in c:\\python311\\lib\\site-packages (from aiohttp->datasets>=2.14.0->span-marker->vectara-cli[advanced]) (6.0.4)\n",
      "Requirement already satisfied: yarl<2.0,>=1.0 in c:\\python311\\lib\\site-packages (from aiohttp->datasets>=2.14.0->span-marker->vectara-cli[advanced]) (1.9.2)\n",
      "Requirement already satisfied: scipy>=1.5.0 in c:\\python311\\lib\\site-packages (from scikit-learn>=0.21.3->seqeval->span-marker->vectara-cli[advanced]) (1.11.2)\n",
      "Requirement already satisfied: joblib>=1.1.1 in c:\\python311\\lib\\site-packages (from scikit-learn>=0.21.3->seqeval->span-marker->vectara-cli[advanced]) (1.3.2)\n",
      "Requirement already satisfied: threadpoolctl>=2.0.0 in c:\\python311\\lib\\site-packages (from scikit-learn>=0.21.3->seqeval->span-marker->vectara-cli[advanced]) (3.2.0)\n",
      "Requirement already satisfied: python-dateutil>=2.8.2 in c:\\python311\\lib\\site-packages (from pandas->datasets>=2.14.0->span-marker->vectara-cli[advanced]) (2.8.2)\n",
      "Requirement already satisfied: pytz>=2020.1 in c:\\python311\\lib\\site-packages (from pandas->datasets>=2.14.0->span-marker->vectara-cli[advanced]) (2023.3.post1)\n",
      "Requirement already satisfied: tzdata>=2022.1 in c:\\python311\\lib\\site-packages (from pandas->datasets>=2.14.0->span-marker->vectara-cli[advanced]) (2023.3)\n",
      "Requirement already satisfied: six>=1.5 in c:\\python311\\lib\\site-packages (from python-dateutil>=2.8.2->pandas->datasets>=2.14.0->span-marker->vectara-cli[advanced]) (1.16.0)\n"
     ]
    }
   ],
   "source": [
    "!pip install vectara-cli vectara-cli[advanced]"
   ]
  },
  {
   "cell_type": "code",
   "execution_count": 14,
   "metadata": {},
   "outputs": [
    {
     "ename": "SyntaxError",
     "evalue": "invalid syntax (4262318504.py, line 2)",
     "output_type": "error",
     "traceback": [
      "\u001b[1;36m  Cell \u001b[1;32mIn[14], line 2\u001b[1;36m\u001b[0m\n\u001b[1;33m    from vectara-cli import VectaraClient\u001b[0m\n\u001b[1;37m                ^\u001b[0m\n\u001b[1;31mSyntaxError\u001b[0m\u001b[1;31m:\u001b[0m invalid syntax\n"
     ]
    }
   ],
   "source": [
    "# Import necessary libraries\n",
    "from vectara_cli import VectaraClient\n",
    "from vectara-cli import EnterpriseSpan\n",
    "from vectara-cli import Rebel\n",
    "\n",
    "# Vectara platform credentials\n",
    "customer_id = 'your_customer_id'\n",
    "api_key = 'your_api_key'\n",
    "\n",
    "# Initialize the Vectara client\n",
    "vectara_client = VectaraClient(customer_id, api_key)\n"
   ]
  },
  {
   "cell_type": "code",
   "execution_count": 3,
   "metadata": {},
   "outputs": [
    {
     "ename": "NameError",
     "evalue": "name 'vectara_client' is not defined",
     "output_type": "error",
     "traceback": [
      "\u001b[1;31m---------------------------------------------------------------------------\u001b[0m",
      "\u001b[1;31mNameError\u001b[0m                                 Traceback (most recent call last)",
      "Cell \u001b[1;32mIn[3], line 8\u001b[0m\n\u001b[0;32m      5\u001b[0m metadata_json \u001b[38;5;241m=\u001b[39m \u001b[38;5;124m'\u001b[39m\u001b[38;5;124m{\u001b[39m\u001b[38;5;124m\"\u001b[39m\u001b[38;5;124mauthor\u001b[39m\u001b[38;5;124m\"\u001b[39m\u001b[38;5;124m: \u001b[39m\u001b[38;5;124m\"\u001b[39m\u001b[38;5;124mJohn Doe\u001b[39m\u001b[38;5;124m\"\u001b[39m\u001b[38;5;124m}\u001b[39m\u001b[38;5;124m'\u001b[39m\n\u001b[0;32m      7\u001b[0m \u001b[38;5;66;03m# Indexing a document\u001b[39;00m\n\u001b[1;32m----> 8\u001b[0m \u001b[43mvectara_client\u001b[49m\u001b[38;5;241m.\u001b[39mindex_text(corpus_id, document_id, text, metadata_json\u001b[38;5;241m=\u001b[39mmetadata_json)\n\u001b[0;32m     10\u001b[0m \u001b[38;5;66;03m# Basic querying\u001b[39;00m\n\u001b[0;32m     11\u001b[0m query_text \u001b[38;5;241m=\u001b[39m \u001b[38;5;124m'\u001b[39m\u001b[38;5;124mJohn Doe\u001b[39m\u001b[38;5;124m'\u001b[39m\n",
      "\u001b[1;31mNameError\u001b[0m: name 'vectara_client' is not defined"
     ]
    }
   ],
   "source": [
    "# Basic document indexing\n",
    "corpus_id = 'your_corpus_id'\n",
    "document_id = 'unique_document_id'\n",
    "text = 'This is the document text you want to index.'\n",
    "metadata_json = '{\"author\": \"John Doe\"}'\n",
    "\n",
    "# Indexing a document\n",
    "vectara_client.index_text(corpus_id, document_id, text, metadata_json=metadata_json)\n",
    "\n",
    "# Basic querying\n",
    "query_text = 'John Doe'\n",
    "num_results = 5\n",
    "\n",
    "results = vectara_client.query(query_text, num_results, corpus_id)\n",
    "print(\"=== Basic Query Results ===\")\n",
    "for result in results:\n",
    "    print(f\"Document ID: {result['documentIndex']}, Score: {result['score']}, Text: {result['text'][:100]}...\")\n"
   ]
  },
  {
   "cell_type": "code",
   "execution_count": 4,
   "metadata": {},
   "outputs": [
    {
     "ename": "NameError",
     "evalue": "name 'EnterpriseSpan' is not defined",
     "output_type": "error",
     "traceback": [
      "\u001b[1;31m---------------------------------------------------------------------------\u001b[0m",
      "\u001b[1;31mNameError\u001b[0m                                 Traceback (most recent call last)",
      "Cell \u001b[1;32mIn[4], line 3\u001b[0m\n\u001b[0;32m      1\u001b[0m \u001b[38;5;66;03m# Initialize the EnterpriseSpan for advanced text processing\u001b[39;00m\n\u001b[0;32m      2\u001b[0m model_name \u001b[38;5;241m=\u001b[39m \u001b[38;5;124m\"\u001b[39m\u001b[38;5;124mkeyphrase\u001b[39m\u001b[38;5;124m\"\u001b[39m  \u001b[38;5;66;03m# Example model name\u001b[39;00m\n\u001b[1;32m----> 3\u001b[0m enterprise_span \u001b[38;5;241m=\u001b[39m \u001b[43mEnterpriseSpan\u001b[49m(model_name)\n\u001b[0;32m      5\u001b[0m \u001b[38;5;66;03m# Example text for processing\u001b[39;00m\n\u001b[0;32m      6\u001b[0m text \u001b[38;5;241m=\u001b[39m \u001b[38;5;124m\"\u001b[39m\u001b[38;5;124mOpenAI has developed a state-of-the-art language model named GPT-4.\u001b[39m\u001b[38;5;124m\"\u001b[39m\n",
      "\u001b[1;31mNameError\u001b[0m: name 'EnterpriseSpan' is not defined"
     ]
    }
   ],
   "source": [
    "# Initialize the EnterpriseSpan for advanced text processing\n",
    "model_name = \"keyphrase\"  # Example model name\n",
    "enterprise_span = EnterpriseSpan(model_name)\n",
    "\n",
    "# Example text for processing\n",
    "text = \"OpenAI has developed a state-of-the-art language model named GPT-4.\"\n",
    "\n",
    "# Process text and generate metadata\n",
    "predictions = enterprise_span.predict(text)\n",
    "metadata = enterprise_span.generate_metadata(predictions)\n",
    "\n",
    "# Upload the enriched text along with its metadata to Vectara\n",
    "corpus_id = 'your_corpus_id_for_enriched_text'\n",
    "document_id = 'doc-002'\n",
    "\n",
    "enterprise_span.upload_enriched_text(corpus_id, document_id, text, metadata)\n",
    "print(\"Enriched text uploaded successfully.\")\n"
   ]
  },
  {
   "cell_type": "code",
   "execution_count": 5,
   "metadata": {},
   "outputs": [
    {
     "ename": "NameError",
     "evalue": "name 'Rebel' is not defined",
     "output_type": "error",
     "traceback": [
      "\u001b[1;31m---------------------------------------------------------------------------\u001b[0m",
      "\u001b[1;31mNameError\u001b[0m                                 Traceback (most recent call last)",
      "Cell \u001b[1;32mIn[5], line 2\u001b[0m\n\u001b[0;32m      1\u001b[0m \u001b[38;5;66;03m# Initialize Rebel for advanced non-commercial text processing\u001b[39;00m\n\u001b[1;32m----> 2\u001b[0m rebel \u001b[38;5;241m=\u001b[39m \u001b[43mRebel\u001b[49m()\n\u001b[0;32m      4\u001b[0m \u001b[38;5;66;03m# Specify the folder path containing documents to process and upload\u001b[39;00m\n\u001b[0;32m      5\u001b[0m folder_path \u001b[38;5;241m=\u001b[39m \u001b[38;5;124m'\u001b[39m\u001b[38;5;124m/path/to/your/documents\u001b[39m\u001b[38;5;124m'\u001b[39m\n",
      "\u001b[1;31mNameError\u001b[0m: name 'Rebel' is not defined"
     ]
    }
   ],
   "source": [
    "# Initialize Rebel for advanced non-commercial text processing\n",
    "rebel = Rebel()\n",
    "\n",
    "# Specify the folder path containing documents to process and upload\n",
    "folder_path = '/path/to/your/documents'\n",
    "\n",
    "# Perform advanced indexing with Rebel\n",
    "corpus_id_1 = 'your_corpus_id_for_plain_text'\n",
    "corpus_id_2 = 'your_corpus_id_for_enriched_text'\n",
    "\n",
    "rebel.advanced_upsert_folder(vectara_client, corpus_id_1, corpus_id_2, folder_path)\n",
    "\n",
    "# Querying after Rebel enhancement\n",
    "query_text = 'GPT-4'\n",
    "num_results = 5\n",
    "\n",
    "# Vanilla retrieval\n",
    "plain_results = vectara_client.query(query_text, num_results, corpus_id_1)\n",
    "# Enhanced retrieval\n",
    "enhanced_results = vectara_client.query(query_text, num_results, corpus_id_2)\n",
    "\n",
    "# Display results\n",
    "print(\"=== Plain Results ===\")\n",
    "for result in plain_results:\n",
    "    print(f\"Document ID: {result['documentIndex']}, Score: {result['score']}, Text: {result['text'][:100]}...\")\n",
    "\n",
    "print(\"\\n=== Enhanced Results ===\")\n",
    "for result in enhanced_results:\n",
    "    print(f\"Document ID: {result['documentIndex']}, Score: {result['score']}, Text: {result['text'][:100]}...\")\n"
   ]
  }
 ],
 "metadata": {
  "kernelspec": {
   "display_name": "Python 3",
   "language": "python",
   "name": "python3"
  },
  "language_info": {
   "codemirror_mode": {
    "name": "ipython",
    "version": 3
   },
   "file_extension": ".py",
   "mimetype": "text/x-python",
   "name": "python",
   "nbconvert_exporter": "python",
   "pygments_lexer": "ipython3",
   "version": "3.12.2"
  }
 },
 "nbformat": 4,
 "nbformat_minor": 2
}
